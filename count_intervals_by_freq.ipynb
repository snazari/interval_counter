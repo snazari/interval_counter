{
 "cells": [
  {
   "cell_type": "code",
   "execution_count": 1,
   "metadata": {},
   "outputs": [],
   "source": [
    "import pandas as pd\n",
    "import matplotlib\n",
    "import matplotlib.pyplot as plt\n",
    "import numpy as np\n",
    "%matplotlib inline"
   ]
  },
  {
   "cell_type": "code",
   "execution_count": 2,
   "metadata": {},
   "outputs": [
    {
     "data": {
      "text/plain": [
       "'/MAA/snag/confidence_enrichment/confidence_enrichment_tool'"
      ]
     },
     "execution_count": 2,
     "metadata": {},
     "output_type": "execute_result"
    }
   ],
   "source": [
    "pwd"
   ]
  },
  {
   "cell_type": "code",
   "execution_count": 3,
   "metadata": {},
   "outputs": [
    {
     "name": "stdout",
     "output_type": "stream",
     "text": [
      "/MAA\n"
     ]
    }
   ],
   "source": [
    "cd /MAA"
   ]
  },
  {
   "cell_type": "code",
   "execution_count": 4,
   "metadata": {},
   "outputs": [],
   "source": [
    "df=pd.read_csv('Table.csv')\n",
    "df = df.drop(labels='Unnamed: 5',axis=1)\n",
    "df = df.drop(labels=0,axis=0)\n",
    "df['stop'] = df.apply(lambda x: x['start']+x['Duration(us)'],axis=1)\n",
    "df=df[['Node','Pulse','Freq','start','stop','Duration(us)']]\n",
    "s1 = df['start'].values\n",
    "s2 = df['stop'].values\n",
    "#df['overlap']=pd.Series(sum(np.minimum(s2[:,None],s2)-np.maximum(s1[:,None],s1)>0)>1)\n",
    "#df.sort_values(by='start')"
   ]
  },
  {
   "cell_type": "code",
   "execution_count": 5,
   "metadata": {},
   "outputs": [],
   "source": [
    "def over_lap(df):\n",
    "    for row in df.itertuples():\n",
    "        mask = (row.start <= df.stop) & (row.stop >= df.start)\n",
    "        df.loc[row.Index, 'overlap_count'] = sum(mask) - 1\n",
    "    return df"
   ]
  },
  {
   "cell_type": "code",
   "execution_count": 6,
   "metadata": {},
   "outputs": [],
   "source": [
    "f= df.groupby(by='Freq')"
   ]
  },
  {
   "cell_type": "code",
   "execution_count": 9,
   "metadata": {},
   "outputs": [
    {
     "name": "stdout",
     "output_type": "stream",
     "text": [
      "CPU times: user 504 ms, sys: 12.5 ms, total: 517 ms\n",
      "Wall time: 505 ms\n"
     ]
    },
    {
     "data": {
      "text/html": [
       "<div>\n",
       "<style scoped>\n",
       "    .dataframe tbody tr th:only-of-type {\n",
       "        vertical-align: middle;\n",
       "    }\n",
       "\n",
       "    .dataframe tbody tr th {\n",
       "        vertical-align: top;\n",
       "    }\n",
       "\n",
       "    .dataframe thead th {\n",
       "        text-align: right;\n",
       "    }\n",
       "</style>\n",
       "<table border=\"1\" class=\"dataframe\">\n",
       "  <thead>\n",
       "    <tr style=\"text-align: right;\">\n",
       "      <th></th>\n",
       "      <th>Node</th>\n",
       "      <th>Pulse</th>\n",
       "      <th>Freq</th>\n",
       "      <th>start</th>\n",
       "      <th>stop</th>\n",
       "      <th>Duration(us)</th>\n",
       "      <th>overlap_count</th>\n",
       "    </tr>\n",
       "  </thead>\n",
       "  <tbody>\n",
       "    <tr>\n",
       "      <th>2</th>\n",
       "      <td>0.0</td>\n",
       "      <td>1.0</td>\n",
       "      <td>31.0</td>\n",
       "      <td>915.0</td>\n",
       "      <td>1107.0</td>\n",
       "      <td>192.0</td>\n",
       "      <td>1.0</td>\n",
       "    </tr>\n",
       "    <tr>\n",
       "      <th>4</th>\n",
       "      <td>0.0</td>\n",
       "      <td>3.0</td>\n",
       "      <td>31.0</td>\n",
       "      <td>4212.0</td>\n",
       "      <td>4404.0</td>\n",
       "      <td>192.0</td>\n",
       "      <td>0.0</td>\n",
       "    </tr>\n",
       "    <tr>\n",
       "      <th>22</th>\n",
       "      <td>1.0</td>\n",
       "      <td>1.0</td>\n",
       "      <td>31.0</td>\n",
       "      <td>713.0</td>\n",
       "      <td>905.0</td>\n",
       "      <td>192.0</td>\n",
       "      <td>0.0</td>\n",
       "    </tr>\n",
       "    <tr>\n",
       "      <th>24</th>\n",
       "      <td>1.0</td>\n",
       "      <td>3.0</td>\n",
       "      <td>31.0</td>\n",
       "      <td>2976.0</td>\n",
       "      <td>3168.0</td>\n",
       "      <td>192.0</td>\n",
       "      <td>0.0</td>\n",
       "    </tr>\n",
       "    <tr>\n",
       "      <th>42</th>\n",
       "      <td>2.0</td>\n",
       "      <td>1.0</td>\n",
       "      <td>31.0</td>\n",
       "      <td>954.0</td>\n",
       "      <td>1146.0</td>\n",
       "      <td>192.0</td>\n",
       "      <td>1.0</td>\n",
       "    </tr>\n",
       "    <tr>\n",
       "      <th>44</th>\n",
       "      <td>2.0</td>\n",
       "      <td>3.0</td>\n",
       "      <td>31.0</td>\n",
       "      <td>3219.0</td>\n",
       "      <td>3411.0</td>\n",
       "      <td>192.0</td>\n",
       "      <td>0.0</td>\n",
       "    </tr>\n",
       "  </tbody>\n",
       "</table>\n",
       "</div>"
      ],
      "text/plain": [
       "    Node  Pulse  Freq   start    stop  Duration(us)  overlap_count\n",
       "2    0.0    1.0  31.0   915.0  1107.0         192.0            1.0\n",
       "4    0.0    3.0  31.0  4212.0  4404.0         192.0            0.0\n",
       "22   1.0    1.0  31.0   713.0   905.0         192.0            0.0\n",
       "24   1.0    3.0  31.0  2976.0  3168.0         192.0            0.0\n",
       "42   2.0    1.0  31.0   954.0  1146.0         192.0            1.0\n",
       "44   2.0    3.0  31.0  3219.0  3411.0         192.0            0.0"
      ]
     },
     "execution_count": 9,
     "metadata": {},
     "output_type": "execute_result"
    }
   ],
   "source": [
    "%time over_lap(f.get_group(31))"
   ]
  },
  {
   "cell_type": "code",
   "execution_count": 8,
   "metadata": {},
   "outputs": [
    {
     "data": {
      "text/plain": [
       "{0.0: Int64Index([1, 3, 21, 23, 41, 43], dtype='int64'),\n",
       " 2.0: Int64Index([58], dtype='int64'),\n",
       " 3.0: Int64Index([11, 51], dtype='int64'),\n",
       " 4.0: Int64Index([29], dtype='int64'),\n",
       " 5.0: Int64Index([18, 33], dtype='int64'),\n",
       " 6.0: Int64Index([35, 46], dtype='int64'),\n",
       " 7.0: Int64Index([31], dtype='int64'),\n",
       " 8.0: Int64Index([32], dtype='int64'),\n",
       " 9.0: Int64Index([12], dtype='int64'),\n",
       " 10.0: Int64Index([10, 57], dtype='int64'),\n",
       " 11.0: Int64Index([15, 34, 50], dtype='int64'),\n",
       " 12.0: Int64Index([9, 36, 47], dtype='int64'),\n",
       " 13.0: Int64Index([55], dtype='int64'),\n",
       " 14.0: Int64Index([38], dtype='int64'),\n",
       " 15.0: Int64Index([13, 30, 56], dtype='int64'),\n",
       " 16.0: Int64Index([19, 60], dtype='int64'),\n",
       " 17.0: Int64Index([27], dtype='int64'),\n",
       " 18.0: Int64Index([5, 26, 54], dtype='int64'),\n",
       " 19.0: Int64Index([8, 39, 49], dtype='int64'),\n",
       " 20.0: Int64Index([16, 45], dtype='int64'),\n",
       " 21.0: Int64Index([20], dtype='int64'),\n",
       " 22.0: Int64Index([25], dtype='int64'),\n",
       " 23.0: Int64Index([28, 48], dtype='int64'),\n",
       " 24.0: Int64Index([14], dtype='int64'),\n",
       " 25.0: Int64Index([6], dtype='int64'),\n",
       " 26.0: Int64Index([7, 59], dtype='int64'),\n",
       " 27.0: Int64Index([37], dtype='int64'),\n",
       " 28.0: Int64Index([17, 52], dtype='int64'),\n",
       " 29.0: Int64Index([40, 53], dtype='int64'),\n",
       " 31.0: Int64Index([2, 4, 22, 24, 42, 44], dtype='int64')}"
      ]
     },
     "execution_count": 8,
     "metadata": {},
     "output_type": "execute_result"
    }
   ],
   "source": [
    "f.groups"
   ]
  },
  {
   "cell_type": "code",
   "execution_count": null,
   "metadata": {},
   "outputs": [],
   "source": []
  }
 ],
 "metadata": {
  "kernelspec": {
   "display_name": "Python 3",
   "language": "python",
   "name": "python3"
  },
  "language_info": {
   "codemirror_mode": {
    "name": "ipython",
    "version": 3
   },
   "file_extension": ".py",
   "mimetype": "text/x-python",
   "name": "python",
   "nbconvert_exporter": "python",
   "pygments_lexer": "ipython3",
   "version": "3.6.4"
  }
 },
 "nbformat": 4,
 "nbformat_minor": 2
}
